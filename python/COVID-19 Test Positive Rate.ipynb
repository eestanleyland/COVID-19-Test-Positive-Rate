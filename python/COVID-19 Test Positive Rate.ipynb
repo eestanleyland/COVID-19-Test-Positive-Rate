{
 "cells": [
  {
   "cell_type": "code",
   "execution_count": 62,
   "metadata": {},
   "outputs": [],
   "source": [
    "import numpy as np\n",
    "import pandas as pd\n",
    "import matplotlib.dates as mdates\n",
    "import datetime as dt\n",
    "from matplotlib.dates import MO, TU, WE, TH, FR, SA, SU\n",
    "import plotly.graph_objects as go\n",
    "\n",
    "from scipy.optimize import leastsq\n",
    "from scipy.optimize import curve_fit\n",
    "\n",
    "import matplotlib as mpl\n",
    "import matplotlib.pyplot as plt\n",
    "%matplotlib inline\n",
    "import seaborn as sns\n",
    "from mpl_toolkits.axes_grid1 import make_axes_locatable"
   ]
  },
  {
   "cell_type": "code",
   "execution_count": 63,
   "metadata": {},
   "outputs": [],
   "source": [
    "#git status\n",
    "#git add .\n",
    "#git commit -m \"comment\"\n",
    "#git push\n",
    "\n",
    "#git pull\n",
    "#:q (vim's quit)\n",
    "#:w (vim's save)\n",
    "#:wq (save & quit)"
   ]
  },
  {
   "cell_type": "markdown",
   "metadata": {},
   "source": [
    "# Load Data"
   ]
  },
  {
   "cell_type": "code",
   "execution_count": 64,
   "metadata": {},
   "outputs": [
    {
     "data": {
      "text/html": [
       "<div>\n",
       "<style scoped>\n",
       "    .dataframe tbody tr th:only-of-type {\n",
       "        vertical-align: middle;\n",
       "    }\n",
       "\n",
       "    .dataframe tbody tr th {\n",
       "        vertical-align: top;\n",
       "    }\n",
       "\n",
       "    .dataframe thead th {\n",
       "        text-align: right;\n",
       "    }\n",
       "</style>\n",
       "<table border=\"1\" class=\"dataframe\">\n",
       "  <thead>\n",
       "    <tr style=\"text-align: right;\">\n",
       "      <th></th>\n",
       "      <th>date</th>\n",
       "      <th>state</th>\n",
       "      <th>positive</th>\n",
       "      <th>negative</th>\n",
       "      <th>pending</th>\n",
       "      <th>hospitalizedCurrently</th>\n",
       "      <th>hospitalizedCumulative</th>\n",
       "      <th>inIcuCurrently</th>\n",
       "      <th>inIcuCumulative</th>\n",
       "      <th>onVentilatorCurrently</th>\n",
       "      <th>...</th>\n",
       "      <th>hospitalized</th>\n",
       "      <th>total</th>\n",
       "      <th>totalTestResults</th>\n",
       "      <th>posNeg</th>\n",
       "      <th>fips</th>\n",
       "      <th>deathIncrease</th>\n",
       "      <th>hospitalizedIncrease</th>\n",
       "      <th>negativeIncrease</th>\n",
       "      <th>positiveIncrease</th>\n",
       "      <th>totalTestResultsIncrease</th>\n",
       "    </tr>\n",
       "  </thead>\n",
       "  <tbody>\n",
       "    <tr>\n",
       "      <th>0</th>\n",
       "      <td>20200417</td>\n",
       "      <td>AK</td>\n",
       "      <td>309.0</td>\n",
       "      <td>9141.0</td>\n",
       "      <td>NaN</td>\n",
       "      <td>NaN</td>\n",
       "      <td>36.0</td>\n",
       "      <td>NaN</td>\n",
       "      <td>NaN</td>\n",
       "      <td>NaN</td>\n",
       "      <td>...</td>\n",
       "      <td>36.0</td>\n",
       "      <td>9450.0</td>\n",
       "      <td>9450.0</td>\n",
       "      <td>9450.0</td>\n",
       "      <td>2</td>\n",
       "      <td>0.0</td>\n",
       "      <td>1.0</td>\n",
       "      <td>706.0</td>\n",
       "      <td>9.0</td>\n",
       "      <td>715.0</td>\n",
       "    </tr>\n",
       "    <tr>\n",
       "      <th>1</th>\n",
       "      <td>20200417</td>\n",
       "      <td>AL</td>\n",
       "      <td>4530.0</td>\n",
       "      <td>33318.0</td>\n",
       "      <td>NaN</td>\n",
       "      <td>NaN</td>\n",
       "      <td>594.0</td>\n",
       "      <td>NaN</td>\n",
       "      <td>247.0</td>\n",
       "      <td>NaN</td>\n",
       "      <td>...</td>\n",
       "      <td>594.0</td>\n",
       "      <td>37848.0</td>\n",
       "      <td>37848.0</td>\n",
       "      <td>37848.0</td>\n",
       "      <td>1</td>\n",
       "      <td>11.0</td>\n",
       "      <td>41.0</td>\n",
       "      <td>1272.0</td>\n",
       "      <td>185.0</td>\n",
       "      <td>1457.0</td>\n",
       "    </tr>\n",
       "    <tr>\n",
       "      <th>2</th>\n",
       "      <td>20200417</td>\n",
       "      <td>AR</td>\n",
       "      <td>1695.0</td>\n",
       "      <td>21799.0</td>\n",
       "      <td>NaN</td>\n",
       "      <td>83.0</td>\n",
       "      <td>NaN</td>\n",
       "      <td>NaN</td>\n",
       "      <td>NaN</td>\n",
       "      <td>21.0</td>\n",
       "      <td>...</td>\n",
       "      <td>NaN</td>\n",
       "      <td>23494.0</td>\n",
       "      <td>23494.0</td>\n",
       "      <td>23494.0</td>\n",
       "      <td>5</td>\n",
       "      <td>0.0</td>\n",
       "      <td>0.0</td>\n",
       "      <td>744.0</td>\n",
       "      <td>75.0</td>\n",
       "      <td>819.0</td>\n",
       "    </tr>\n",
       "    <tr>\n",
       "      <th>3</th>\n",
       "      <td>20200417</td>\n",
       "      <td>AS</td>\n",
       "      <td>0.0</td>\n",
       "      <td>3.0</td>\n",
       "      <td>17.0</td>\n",
       "      <td>NaN</td>\n",
       "      <td>NaN</td>\n",
       "      <td>NaN</td>\n",
       "      <td>NaN</td>\n",
       "      <td>NaN</td>\n",
       "      <td>...</td>\n",
       "      <td>NaN</td>\n",
       "      <td>20.0</td>\n",
       "      <td>3.0</td>\n",
       "      <td>3.0</td>\n",
       "      <td>60</td>\n",
       "      <td>0.0</td>\n",
       "      <td>0.0</td>\n",
       "      <td>0.0</td>\n",
       "      <td>0.0</td>\n",
       "      <td>0.0</td>\n",
       "    </tr>\n",
       "    <tr>\n",
       "      <th>4</th>\n",
       "      <td>20200417</td>\n",
       "      <td>AZ</td>\n",
       "      <td>4507.0</td>\n",
       "      <td>44723.0</td>\n",
       "      <td>NaN</td>\n",
       "      <td>566.0</td>\n",
       "      <td>NaN</td>\n",
       "      <td>285.0</td>\n",
       "      <td>NaN</td>\n",
       "      <td>178.0</td>\n",
       "      <td>...</td>\n",
       "      <td>NaN</td>\n",
       "      <td>49230.0</td>\n",
       "      <td>49230.0</td>\n",
       "      <td>49230.0</td>\n",
       "      <td>4</td>\n",
       "      <td>19.0</td>\n",
       "      <td>0.0</td>\n",
       "      <td>1559.0</td>\n",
       "      <td>273.0</td>\n",
       "      <td>1832.0</td>\n",
       "    </tr>\n",
       "  </tbody>\n",
       "</table>\n",
       "<p>5 rows × 25 columns</p>\n",
       "</div>"
      ],
      "text/plain": [
       "       date state  positive  negative  pending  hospitalizedCurrently  \\\n",
       "0  20200417    AK     309.0    9141.0      NaN                    NaN   \n",
       "1  20200417    AL    4530.0   33318.0      NaN                    NaN   \n",
       "2  20200417    AR    1695.0   21799.0      NaN                   83.0   \n",
       "3  20200417    AS       0.0       3.0     17.0                    NaN   \n",
       "4  20200417    AZ    4507.0   44723.0      NaN                  566.0   \n",
       "\n",
       "   hospitalizedCumulative  inIcuCurrently  inIcuCumulative  \\\n",
       "0                    36.0             NaN              NaN   \n",
       "1                   594.0             NaN            247.0   \n",
       "2                     NaN             NaN              NaN   \n",
       "3                     NaN             NaN              NaN   \n",
       "4                     NaN           285.0              NaN   \n",
       "\n",
       "   onVentilatorCurrently            ...             hospitalized    total  \\\n",
       "0                    NaN            ...                     36.0   9450.0   \n",
       "1                    NaN            ...                    594.0  37848.0   \n",
       "2                   21.0            ...                      NaN  23494.0   \n",
       "3                    NaN            ...                      NaN     20.0   \n",
       "4                  178.0            ...                      NaN  49230.0   \n",
       "\n",
       "  totalTestResults   posNeg  fips  deathIncrease  hospitalizedIncrease  \\\n",
       "0           9450.0   9450.0     2            0.0                   1.0   \n",
       "1          37848.0  37848.0     1           11.0                  41.0   \n",
       "2          23494.0  23494.0     5            0.0                   0.0   \n",
       "3              3.0      3.0    60            0.0                   0.0   \n",
       "4          49230.0  49230.0     4           19.0                   0.0   \n",
       "\n",
       "   negativeIncrease  positiveIncrease  totalTestResultsIncrease  \n",
       "0             706.0               9.0                     715.0  \n",
       "1            1272.0             185.0                    1457.0  \n",
       "2             744.0              75.0                     819.0  \n",
       "3               0.0               0.0                       0.0  \n",
       "4            1559.0             273.0                    1832.0  \n",
       "\n",
       "[5 rows x 25 columns]"
      ]
     },
     "execution_count": 64,
     "metadata": {},
     "output_type": "execute_result"
    }
   ],
   "source": [
    "df= pd.DataFrame()\n",
    "df= pd.read_csv('http://covidtracking.com/api/states/daily.csv')\n",
    "df.head()"
   ]
  },
  {
   "cell_type": "markdown",
   "metadata": {},
   "source": [
    "# Overview by State"
   ]
  },
  {
   "cell_type": "code",
   "execution_count": 65,
   "metadata": {},
   "outputs": [],
   "source": [
    "def latest_by_state(df, action_index= 0):\n",
    "    df_latest= slice_latest(df)\n",
    "    plot_by_state(df_latest, action_index)"
   ]
  },
  {
   "cell_type": "code",
   "execution_count": 66,
   "metadata": {},
   "outputs": [],
   "source": [
    "def slice_latest(df):\n",
    "    df_latest= df.head(56).copy()\n",
    "    df_latest['total_pos_rate']= df_latest['positive']/df_latest['total']*100\n",
    "    df_latest['daily_pos_rate']= df_latest['positiveIncrease']/df_latest['totalTestResultsIncrease']*100\n",
    "    df_latest['date']= pd.to_datetime(df_latest['dateChecked'].str.slice(0, 10, 1), format= '%Y-%m-%d')\n",
    "    df_latest['positive']= df_latest['positive'].fillna(0)\n",
    "    df_latest['positive']= df_latest['positive'].round(0).astype(int)\n",
    "    \n",
    "    return df_latest"
   ]
  },
  {
   "cell_type": "code",
   "execution_count": 67,
   "metadata": {},
   "outputs": [],
   "source": [
    "def plot_by_state(df, action_index):\n",
    "    # If action_index == 0, plot test positive rate by state\n",
    "    # If action_index == 1, plot positive cases by state\n",
    "    \n",
    "    data= {'variable': ['total_pos_rate', 'positive'],\n",
    "           'plot_title': ['Total Test Positive Rate', 'Total Positive Cases'],\n",
    "           'legend': ['Test Positive Rate (%)', 'Positive Cases']}\n",
    "    action= pd.DataFrame(data, columns= ['variable', 'plot_title', 'legend'])\n",
    "    \n",
    "    for col in df.columns:\n",
    "        df[col] = df[col].astype(str)\n",
    "\n",
    "    if action_index == 0:\n",
    "        df['text']= 'Total positive cases: ' + df['positive'] + '<br>' + 'Total test results: ' + df['totalTestResults']\n",
    "    if action_index == 1:\n",
    "        df['text']= 'Total death: ' + df['death']\n",
    "        \n",
    "    fig = go.Figure(data= go.Choropleth(\n",
    "        locations= df['state'], # Spatial coordinates\n",
    "        z= df[action['variable'][action_index]].astype(float), # Data to be color-coded\n",
    "        locationmode= 'USA-states', # set of locations match entries in `locations`\n",
    "        colorscale= 'Reds',\n",
    "        text= df['text'], # hover text\n",
    "        marker_line_color= 'white',\n",
    "        colorbar_title= action['legend'][action_index],\n",
    "    ))\n",
    "\n",
    "    fig.update_layout(\n",
    "        title_text = 'COVID-19 %s by State (updated on %s)' % (action['plot_title'][action_index], df['date'][0]),\n",
    "        geo_scope='usa', # limite map scope to USA\n",
    "    )\n",
    "\n",
    "    fig.show()"
   ]
  },
  {
   "cell_type": "markdown",
   "metadata": {},
   "source": [
    "# Test Positive Rate Trend by State"
   ]
  },
  {
   "cell_type": "code",
   "execution_count": 68,
   "metadata": {},
   "outputs": [],
   "source": [
    "def state_trend(df, state, plot= 'pos_rate'):\n",
    "    df_state= slice_state(df, state)\n",
    "    if plot == 'pos_rate':\n",
    "        plot_test_pos_rate(df_state, state)\n",
    "    if plot == 'case':\n",
    "        stackplot_state_case(df_state, state)"
   ]
  },
  {
   "cell_type": "code",
   "execution_count": 69,
   "metadata": {},
   "outputs": [],
   "source": [
    "def slice_state(df, state):\n",
    "    # Return a slice of df that is related to state\n",
    "    # Parameter df: raw data from api\n",
    "    # Precondition: df is a dataframe and contains the state data and all the columns from the raw data\n",
    "    # Parameter state: state abbreviation (str)\n",
    "    \n",
    "    df_state= df.loc[df['state'] == state].copy()\n",
    "    df_state['total_pos_rate']= df_state['positive']/df_state['total']*100\n",
    "    df_state['daily_pos_rate']= df_state['positiveIncrease']/df_state['totalTestResultsIncrease']*100\n",
    "    df_state['date']= pd.to_datetime(df_state['dateChecked'].str.slice(0, 10, 1), format= '%Y-%m-%d')\n",
    "    #dates= df_state['dateChecked'].str.slice(0,10,1)\n",
    "    #df_state['date']= [dt.datetime.strptime(d, '%Y-%m-%d').date() for d in dates]\n",
    "    \n",
    "    df_state[['positive', 'death', 'recovered']]= df_state[['positive', 'death', 'recovered']].fillna(0)\n",
    "    df_state['active']= df_state['positive'] - df_state['death'] - df_state['recovered']\n",
    "    \n",
    "    df_state.reset_index(inplace= True)\n",
    "    \n",
    "    return df_state"
   ]
  },
  {
   "cell_type": "code",
   "execution_count": 70,
   "metadata": {},
   "outputs": [],
   "source": [
    "def stackplot_state_case(df, state):\n",
    "    sns.reset_orig()\n",
    "    date_form= mdates.DateFormatter(\"%m-%d\")\n",
    "    markers_on= [0, 1, 2] \n",
    "    weekday= SU\n",
    "\n",
    "    # Print recent data points    \n",
    "    print('Daily new cases for the recent 3 days')\n",
    "    for a in range(3):\n",
    "        recoveredIncrease= df.at[a, 'recovered'] - df.at[a+1, 'recovered']\n",
    "        print('%s new positive cases: %d, new deaths: %d, new recovered: %d' % (\n",
    "            df.at[a, 'date'].strftime('%Y-%m-%d'), df.at[a, 'positiveIncrease'], \n",
    "            df.at[a, 'deathIncrease'], recoveredIncrease))   \n",
    "        \n",
    "    sns.set(font_scale= 1.2)\n",
    "    fig0, ax0= plt.subplots(figsize= (8.4, 5))\n",
    "    df= df.iloc[::-1]\n",
    "    x= [item for item in df['date']]\n",
    "    y1, y2, y3= df['active'], df['death'], df['recovered']\n",
    "    plt.gca().xaxis.set_major_formatter(mdates.DateFormatter('%m-%d'))\n",
    "    pal= [sns.xkcd_rgb['denim blue'], sns.xkcd_rgb['pale red'], sns.xkcd_rgb['medium green']]\n",
    "    plt.stackplot(x, y1, y2, y3, labels= ['Active', 'Death', 'Recovered'], colors= pal)\n",
    "    plt.legend(loc= 'upper left')   \n",
    "\n",
    "    fig0.autofmt_xdate()    \n",
    "    ax0.xaxis.set_major_formatter(date_form)\n",
    "    ax0.xaxis.set_major_locator(mdates.WeekdayLocator(byweekday= weekday)) \n",
    "\n",
    "    plt.show()"
   ]
  },
  {
   "cell_type": "code",
   "execution_count": 71,
   "metadata": {},
   "outputs": [],
   "source": [
    "def plot_test_pos_rate(df, state):\n",
    "    sns.reset_orig()\n",
    "    date_form= mdates.DateFormatter(\"%m-%d\")\n",
    "    markers_on= [0, 1, 2] \n",
    "    weekday= SU\n",
    "    \n",
    "    # Print recent data points\n",
    "    print('Cumulative test positive rate for the recent 3 days')\n",
    "    for a in range(3):\n",
    "        print('%s: %.1f' % (df_state.at[a, 'date'].strftime('%Y-%m-%d'), df_state.at[a, 'total_pos_rate']) + '%')\n",
    "    \n",
    "    fig0, ax0= plt.subplots(figsize= (8.4, 5))\n",
    "    plt.plot(df['date'], df['total_pos_rate'], color= 'tab:blue', marker= 'o', markevery= markers_on)\n",
    "    ax0.fmt_xdata= date_form # mdates.DateFormatter('%m-%d')\n",
    "    ax0.grid()\n",
    "    ax0.set(ylabel= 'Cumulative Test Positive Rate (%)',\n",
    "           title= state + ' State COVID-19 Test Positive Rate')\n",
    "    fig0.autofmt_xdate()    \n",
    "    ax0.xaxis.set_major_formatter(date_form)\n",
    "    ax0.xaxis.set_major_locator(mdates.WeekdayLocator(byweekday= weekday))\n",
    "    \n",
    "    \n",
    "    fig1, ax2= plt.subplots(figsize= (8, 5))\n",
    "    color= 'tab:red'\n",
    "    ax2.set(xlabel= 'Date')\n",
    "    ax2.set_ylabel('Daily Test Positive Rate (%)', color= color)\n",
    "    #ax2.plot(df['date'], df['positiveIncrease'], color= color, marker= 'o', markevery= markers_on)\n",
    "    ax2.plot(df['date'], df['daily_pos_rate'], color= color, marker= 'o', markevery= markers_on)\n",
    "    ax2.tick_params(axis= 'y', labelcolor= color)   \n",
    "\n",
    "    ax3= ax2.twinx()  \n",
    "    color= 'tab:green'\n",
    "    ax3.set_ylabel('Daily Test Volume', color= color)  \n",
    "    ax3.plot(df['date'], df['totalTestResultsIncrease'], color= color, marker= 'o', markevery= markers_on)\n",
    "    ax3.tick_params(axis='y', labelcolor= color)\n",
    "    fig1.autofmt_xdate()    \n",
    "    ax3.xaxis.set_major_formatter(date_form)\n",
    "    ax3.xaxis.set_major_locator(mdates.WeekdayLocator(byweekday= weekday)) \n",
    "\n",
    "    fig1.tight_layout()  # Otherwise the right y-label is slightly clipped\n",
    "    plt.show()\n",
    "    "
   ]
  },
  {
   "cell_type": "markdown",
   "metadata": {},
   "source": [
    "# Bass Model Prediction for Cases in NYS"
   ]
  },
  {
   "cell_type": "code",
   "execution_count": 72,
   "metadata": {},
   "outputs": [],
   "source": [
    "population= pd.read_csv('https://raw.githubusercontent.com/eestanleyland/COVID-19-Test-Positive-Rate/master/data/nst-est2019-alldata.csv')\n",
    "population= population[['NAME', 'POPESTIMATE2019']].copy()\n",
    "\n",
    "list= ['United States', 'Northeast Region', 'Midwest Region', 'South Region', 'West Region', \n",
    "       'AL', 'AK', 'AZ', 'AR', 'CA', 'CO', 'CT', 'DE', 'District of Columbia', 'FL', 'GA', \n",
    "       'HI', 'ID', 'IL', 'IN', 'IA', 'KS', 'KY', 'LA', 'ME', 'MD', 'MA', 'MI', 'MN', 'MS', 'MO', \n",
    "       'MT', 'NE', 'NV', 'NH', 'NJ', 'NM', 'NY', 'NC', 'ND', 'OH', 'OK', 'OR', 'PA', 'RI', 'SC', \n",
    "       'SD', 'TN', 'TX', 'UT', 'VT', 'VA', 'WA', 'WV', 'WI', 'WY', 'Puerto Rico']\n",
    "\n",
    "population['state']= list"
   ]
  },
  {
   "cell_type": "code",
   "execution_count": 75,
   "metadata": {},
   "outputs": [],
   "source": [
    "def state_model(df, state, bass_df= False):\n",
    "    # If bass_df == True:\n",
    "    #     Returns a dataframe contains state's actual data and modeled data and varfinal[M,p,q]\n",
    "    # If bass_df == False (default):\n",
    "    #     Print M, p, q and plot the actual modeled data\n",
    "    \n",
    "    df_state= slice_state(df, state)\n",
    "    state_pop= int(population['POPESTIMATE2019'].loc[population.state == state])\n",
    "\n",
    "    df_Y= df_state[['date', 'positiveIncrease', 'positive']].iloc[::-1].fillna(0)\n",
    "    df_Y.reset_index(inplace= True)\n",
    "\n",
    "    if state == 'NY':\n",
    "        threshold= 500\n",
    "    else:\n",
    "        threshold= 10\n",
    "\n",
    "    day= 0\n",
    "    daily_increase= 0\n",
    "    while daily_increase < threshold:\n",
    "        day+= 1\n",
    "        daily_increase= df_Y.at[day, 'positiveIncrease']\n",
    "\n",
    "    df_Y= df_Y[day:].copy()\n",
    "    df_Y.reset_index(inplace= True)\n",
    "    df_Y['t']= pd.Series(range(1, len(df_Y['date'])+1))\n",
    "\n",
    "    Y= df_Y['positiveIncrease']\n",
    "    t= df_Y['t']\n",
    "\n",
    "    # Cumulative positive cases\n",
    "    c_Y= df_Y['positive']\n",
    "\n",
    "    # initial variables(M, P & Q), estimate 20% of the population in NYS will be infected\n",
    "    vars= [state_pop*0.015, 0.03, 0.38]\n",
    "\n",
    "    # residual (error) function\n",
    "    def residual(vars, t, Y):\n",
    "        M= vars[0]\n",
    "        P= vars[1]\n",
    "        Q= vars[2]\n",
    "        Bass= M * (((P+Q)**2/P)*np.exp(-(P+Q)*t))/(1+(Q/P)*np.exp(-(P+Q)*t))**2 \n",
    "        return (Bass - Y)\n",
    " \n",
    "    # non linear least square fitting\n",
    "    varfinal, success = leastsq(residual, vars, args=(t, Y))\n",
    "\n",
    "    # estimated coefficients\n",
    "    m= varfinal[0]\n",
    "    p= varfinal[1]\n",
    "    q= varfinal[2]\n",
    "\n",
    "    print('M (estimated cumulative cases): %0.3e, p: %0.3e, q= %0.3e' % (m, p, q))\n",
    "\n",
    "    # Extend date range for prediction\n",
    "    pred_days= 41\n",
    "    times = pd.date_range(df_Y.at[len(df_Y)-1, 'date'], periods= pred_days, freq= '1D')\n",
    "    df_times = pd.DataFrame({'date': times[1:]})\n",
    "    df_Y= df_Y.append(df_times, ignore_index = True, sort= False)\n",
    "    df_Y['t']= pd.Series(range(1, len(df_Y['date'])+1))\n",
    "\n",
    "    # model with time interpolation\n",
    "    tp= df_Y['t']\n",
    "    cofactor= np.exp(-(p+q)*tp)\n",
    "    df_Y['positiveIncrease_pdf']= m*(((p+q)**2/p)*cofactor)/(1+(q/p)*cofactor)**2\n",
    "\n",
    "    if bass_df == True:\n",
    "        return df_Y, varfinal\n",
    "    \n",
    "    if bass_df == False:    \n",
    "        # daily new case plot\n",
    "        #plt.plot(df_Y['date'], df_Y['positiveIncrease_pdf'], df_Y['date'], df_Y['positiveIncrease'])\n",
    "        #plt.title('positiveIncrease_pdf')\n",
    "        #plt.legend(['Model', 'Actual'])\n",
    "        #plt.show()\n",
    "\n",
    "        sns.reset_orig()\n",
    "        date_form= mdates.DateFormatter(\"%m-%d\")\n",
    "        weekday= SU\n",
    "        \n",
    "        fig0, ax0= plt.subplots(figsize=(8.4, 5))\n",
    "        plt.plot(df_Y['date'], df_Y['positiveIncrease_pdf'], df_Y['date'], df_Y['positiveIncrease'])\n",
    "        ax0.fmt_xdata= date_form # mdates.DateFormatter('%m-%d')\n",
    "        ax0.grid()\n",
    "        ax0.legend(['Model', 'Actual'])\n",
    "        ax0.set(ylabel= 'Positive Cases', title= state + ' State COVID-19 Daily New Cases Prediction')\n",
    "        fig0.autofmt_xdate()    \n",
    "        ax0.xaxis.set_major_formatter(date_form)\n",
    "        ax0.xaxis.set_major_locator(mdates.WeekdayLocator(byweekday= weekday))\n",
    "        plt.show()\n",
    "\n",
    "        # Cumulative positive cases (cdf)\n",
    "        df_Y['positive_cdf'] = m*(1-cofactor)/(1+(q/p)*cofactor)\n",
    "        #plt.plot(tp, positive_cdf, t, c_Y)\n",
    "        #plt.title('Positive Cases cdf')\n",
    "        #plt.legend(['Model', 'Actual'])\n",
    "        #plt.show()\n",
    "\n",
    "        fig1, ax1= plt.subplots(figsize=(8.4, 5))\n",
    "        plt.plot(df_Y['date'], df_Y['positive_cdf'], df_Y['date'], df_Y['positive'])\n",
    "        ax1.fmt_xdata= date_form # mdates.DateFormatter('%m-%d')\n",
    "        ax1.grid()\n",
    "        ax1.legend(['Model', 'Actual'])\n",
    "        ax1.set(ylabel= 'Cumulative Positive Cases', title= state + ' State COVID-19 Cumulative Cases Prediction')\n",
    "        fig1.autofmt_xdate()    \n",
    "        ax1.xaxis.set_major_formatter(date_form)\n",
    "        ax1.xaxis.set_major_locator(mdates.WeekdayLocator(byweekday= weekday))\n",
    "        plt.show()"
   ]
  },
  {
   "cell_type": "markdown",
   "metadata": {},
   "source": [
    "# User Interface"
   ]
  },
  {
   "cell_type": "code",
   "execution_count": 76,
   "metadata": {
    "scrolled": false
   },
   "outputs": [
    {
     "name": "stdout",
     "output_type": "stream",
     "text": [
      "M (estimated cumulative cases): 3.040e+05, p: 7.153e-03, q= 1.168e-01\n"
     ]
    },
    {
     "data": {
      "image/png": "[encoded data removed]",
      "text/plain": [
       "<Figure size 604.8x360 with 1 Axes>"
      ]
     },
     "metadata": {},
     "output_type": "display_data"
    },
    {
     "data": {
      "image/png": "[encoded data removed]",
      "text/plain": [
       "<Figure size 604.8x360 with 1 Axes>"
      ]
     },
     "metadata": {},
     "output_type": "display_data"
    },
    {
     "ename": "TypeError",
     "evalue": "'NoneType' object is not iterable",
     "output_type": "error",
     "traceback": [
      "\u001b[0;31m---------------------------------------------------------------------------\u001b[0m",
      "\u001b[0;31mTypeError\u001b[0m                                 Traceback (most recent call last)",
      "\u001b[0;32m<ipython-input-76-90c58462712e>\u001b[0m in \u001b[0;36m<module>\u001b[0;34m()\u001b[0m\n\u001b[0;32m----> 1\u001b[0;31m \u001b[0mbass_df\u001b[0m\u001b[0;34m,\u001b[0m \u001b[0mvarfinal\u001b[0m\u001b[0;34m=\u001b[0m \u001b[0mstate_model\u001b[0m\u001b[0;34m(\u001b[0m\u001b[0mdf\u001b[0m\u001b[0;34m,\u001b[0m \u001b[0;34m'NY'\u001b[0m\u001b[0;34m)\u001b[0m\u001b[0;34m\u001b[0m\u001b[0m\n\u001b[0m\u001b[1;32m      2\u001b[0m \u001b[0mbass_df\u001b[0m\u001b[0;34m.\u001b[0m\u001b[0mhead\u001b[0m\u001b[0;34m(\u001b[0m\u001b[0;36m40\u001b[0m\u001b[0;34m)\u001b[0m\u001b[0;34m\u001b[0m\u001b[0m\n",
      "\u001b[0;31mTypeError\u001b[0m: 'NoneType' object is not iterable"
     ]
    }
   ],
   "source": [
    "bass_df, varfinal= state_model(df, 'NY')\n",
    "bass_df.head(40)"
   ]
  },
  {
   "cell_type": "code",
   "execution_count": 154,
   "metadata": {},
   "outputs": [
    {
     "name": "stdout",
     "output_type": "stream",
     "text": [
      "Daily new cases for the recent 3 days\n",
      "2020-04-12 new positive cases: 8236, new deaths: 758, new recovered: 1862\n",
      "2020-04-11 new positive cases: 9946, new deaths: 783, new recovered: 1776\n",
      "2020-04-10 new positive cases: 10575, new deaths: 777, new recovered: 1952\n"
     ]
    },
    {
     "data": {
      "image/png": "[encoded data removed]",
      "text/plain": [
       "<Figure size 604.8x360 with 1 Axes>"
      ]
     },
     "metadata": {},
     "output_type": "display_data"
    }
   ],
   "source": [
    "state_trend(df, 'NY', plot= 'case')"
   ]
  },
  {
   "cell_type": "code",
   "execution_count": 46,
   "metadata": {},
   "outputs": [
    {
     "name": "stdout",
     "output_type": "stream",
     "text": [
      "Cumulative test positive rate for the recent 3 days\n",
      "2020-04-15: 40.6%\n",
      "2020-04-14: 40.5%\n",
      "2020-04-13: 40.8%\n"
     ]
    },
    {
     "data": {
      "image/png": "[encoded data removed]",
      "text/plain": [
       "<Figure size 604.8x360 with 1 Axes>"
      ]
     },
     "metadata": {},
     "output_type": "display_data"
    },
    {
     "data": {
      "image/png": "[encoded data removed]",
      "text/plain": [
       "<Figure size 576x360 with 2 Axes>"
      ]
     },
     "metadata": {},
     "output_type": "display_data"
    }
   ],
   "source": [
    "state_trend(df, 'NY', plot= 'pos_rate')"
   ]
  },
  {
   "cell_type": "code",
   "execution_count": 134,
   "metadata": {},
   "outputs": [
    {
     "name": "stdout",
     "output_type": "stream",
     "text": [
      "Cumulative test positive rate for the recent 3 days\n",
      "2020-04-12: 40.9%\n",
      "2020-04-11: 40.9%\n",
      "2020-04-10: 40.8%\n"
     ]
    },
    {
     "data": {
      "image/png": "[encoded data removed]",
      "text/plain": [
       "<Figure size 604.8x360 with 1 Axes>"
      ]
     },
     "metadata": {},
     "output_type": "display_data"
    },
    {
     "data": {
      "image/png": "[encoded data removed]",
      "text/plain": [
       "<Figure size 576x360 with 2 Axes>"
      ]
     },
     "metadata": {},
     "output_type": "display_data"
    }
   ],
   "source": [
    "state_trend(df, 'RI', plot= 'pos_rate')"
   ]
  },
  {
   "cell_type": "code",
   "execution_count": 132,
   "metadata": {},
   "outputs": [
    {
     "data": {
      "application/vnd.plotly.v1+json": {
       "config": {
        "plotlyServerURL": "https://plot.ly"
       },
       "data": [
        {
         "colorbar": {
          "title": {
           "text": "Test Positive Rate (%)"
          }
         },
         "colorscale": [
          [
           0,
           "rgb(255,245,240)"
          ],
          [
           0.125,
           "rgb(254,224,210)"
          ],
          [
           0.25,
           "rgb(252,187,161)"
          ],
          [
           0.375,
           "rgb(252,146,114)"
          ],
          [
           0.5,
           "rgb(251,106,74)"
          ],
          [
           0.625,
           "rgb(239,59,44)"
          ],
          [
           0.75,
           "rgb(203,24,29)"
          ],
          [
           0.875,
           "rgb(165,15,21)"
          ],
          [
           1,
           "rgb(103,0,13)"
          ]
         ],
         "locationmode": "USA-states",
         "locations": [
          "AK",
          "AL",
          "AR",
          "AS",
          "AZ",
          "CA",
          "CO",
          "CT",
          "DC",
          "DE",
          "FL",
          "GA",
          "GU",
          "HI",
          "IA",
          "ID",
          "IL",
          "IN",
          "KS",
          "KY",
          "LA",
          "MA",
          "MD",
          "ME",
          "MI",
          "MN",
          "MO",
          "MP",
          "MS",
          "MT",
          "NC",
          "ND",
          "NE",
          "NH",
          "NJ",
          "NM",
          "NV",
          "NY",
          "OH",
          "OK",
          "OR",
          "PA",
          "PR",
          "RI",
          "SC",
          "SD",
          "TN",
          "TX",
          "UT",
          "VA",
          "VI",
          "VT",
          "WA",
          "WI",
          "WV",
          "WY"
         ],
         "marker": {
          "line": {
           "color": "white"
          }
         },
         "text": [
          "Total positive cases: 272<br>Total test results: 8038.0",
          "Total positive cases: 3525<br>Total test results: 21583.0",
          "Total positive cases: 1280<br>Total test results: 19722.0",
          "Total positive cases: 0<br>Total test results: 3.0",
          "Total positive cases: 3539<br>Total test results: 42109.0",
          "Total positive cases: 21794<br>Total test results: 190328.0",
          "Total positive cases: 6893<br>Total test results: 34873.0",
          "Total positive cases: 12035<br>Total test results: 41220.0",
          "Total positive cases: 1875<br>Total test results: 10640.0",
          "Total positive cases: 1479<br>Total test results: 11103.0",
          "Total positive cases: 19355<br>Total test results: 182753.0",
          "Total positive cases: 12452<br>Total test results: 54453.0",
          "Total positive cases: 133<br>Total test results: 826.0",
          "Total positive cases: 486<br>Total test results: 17968.0",
          "Total positive cases: 1587<br>Total test results: 17592.0",
          "Total positive cases: 1407<br>Total test results: 14308.0",
          "Total positive cases: 20852<br>Total test results: 100735.0",
          "Total positive cases: 7928<br>Total test results: 42489.0",
          "Total positive cases: 1337<br>Total test results: 13253.0",
          "Total positive cases: 1840<br>Total test results: 24567.0",
          "Total positive cases: 20595<br>Total test results: 104045.0",
          "Total positive cases: 25475<br>Total test results: 116730.0",
          "Total positive cases: 8225<br>Total test results: 49764.0",
          "Total positive cases: 633<br>Total test results: 6721.0",
          "Total positive cases: 24638<br>Total test results: 79437.0",
          "Total positive cases: 1621<br>Total test results: 37421.0",
          "Total positive cases: 4160<br>Total test results: 45200.0",
          "Total positive cases: 11<br>Total test results: 38.0",
          "Total positive cases: 2781<br>Total test results: 21413.0",
          "Total positive cases: 387<br>Total test results: 8913.0",
          "Total positive cases: 4520<br>Total test results: 62139.0",
          "Total positive cases: 308<br>Total test results: 10350.0",
          "Total positive cases: 791<br>Total test results: 10691.0",
          "Total positive cases: 929<br>Total test results: 10925.0",
          "Total positive cases: 61850<br>Total test results: 126735.0",
          "Total positive cases: 1174<br>Total test results: 28692.0",
          "Total positive cases: 2836<br>Total test results: 24611.0",
          "Total positive cases: 188694<br>Total test results: 461601.0",
          "Total positive cases: 6604<br>Total test results: 63243.0",
          "Total positive cases: 1970<br>Total test results: 22760.0",
          "Total positive cases: 1527<br>Total test results: 29758.0",
          "Total positive cases: 22833<br>Total test results: 124890.0",
          "Total positive cases: 897<br>Total test results: 6716.0",
          "Total positive cases: 2665<br>Total test results: 20350.0",
          "Total positive cases: 3319<br>Total test results: 31425.0",
          "Total positive cases: 730<br>Total test results: 8553.0",
          "Total positive cases: 5308<br>Total test results: 70677.0",
          "Total positive cases: 13484<br>Total test results: 124533.0",
          "Total positive cases: 2303<br>Total test results: 44234.0",
          "Total positive cases: 5274<br>Total test results: 39985.0",
          "Total positive cases: 51<br>Total test results: 350.0",
          "Total positive cases: 727<br>Total test results: 9841.0",
          "Total positive cases: 10224<br>Total test results: 93615.0",
          "Total positive cases: 3341<br>Total test results: 39257.0",
          "Total positive cases: 611<br>Total test results: 16257.0",
          "Total positive cases: 261<br>Total test results: 5459.0"
         ],
         "type": "choropleth",
         "z": [
          3.3839263498382683,
          16.332298568317658,
          6.490213974241963,
          0,
          8.404379111353867,
          10.708108957981212,
          19.766008086485247,
          29.196991751576906,
          17.622180451127818,
          13.32072412861389,
          10.516164085846237,
          22.867426955355995,
          16.101694915254235,
          2.7048085485307216,
          9.021145975443384,
          9.833659491193737,
          20.699856057973893,
          18.658947021582055,
          10.08828189843809,
          7.489721984776327,
          19.794319765486087,
          21.8238670436049,
          16.52801221766739,
          9.418241333134949,
          31.015773506048816,
          4.331792309131236,
          9.20353982300885,
          23.404255319148938,
          12.98743753794424,
          4.341972399865365,
          7.274014708958947,
          2.975845410628019,
          7.39874660929754,
          8.411807316189785,
          48.80261963940506,
          4.091732887215949,
          11.523302588273536,
          40.87816100918326,
          10.442262384769856,
          8.655536028119508,
          5.1313932387929295,
          18.282488589959165,
          11.258943140454376,
          13.095823095823095,
          10.561654733492443,
          8.535016953115866,
          7.510222561795208,
          10.82765210827652,
          5.206402314961342,
          13.02029328988298,
          13.783783783783784,
          7.387460623920333,
          10.921326710463067,
          8.510584099651018,
          3.7583810051054933,
          4.781095438725042
         ]
        }
       ],
       "layout": {
        "geo": {
         "scope": "usa"
        },
        "template": {
         "data": {
          "bar": [
           {
            "error_x": {
             "color": "#2a3f5f"
            },
            "error_y": {
             "color": "#2a3f5f"
            },
            "marker": {
             "line": {
              "color": "#E5ECF6",
              "width": 0.5
             }
            },
            "type": "bar"
           }
          ],
          "barpolar": [
           {
            "marker": {
             "line": {
              "color": "#E5ECF6",
              "width": 0.5
             }
            },
            "type": "barpolar"
           }
          ],
          "carpet": [
           {
            "aaxis": {
             "endlinecolor": "#2a3f5f",
             "gridcolor": "white",
             "linecolor": "white",
             "minorgridcolor": "white",
             "startlinecolor": "#2a3f5f"
            },
            "baxis": {
             "endlinecolor": "#2a3f5f",
             "gridcolor": "white",
             "linecolor": "white",
             "minorgridcolor": "white",
             "startlinecolor": "#2a3f5f"
            },
            "type": "carpet"
           }
          ],
          "choropleth": [
           {
            "colorbar": {
             "outlinewidth": 0,
             "ticks": ""
            },
            "type": "choropleth"
           }
          ],
          "contour": [
           {
            "colorbar": {
             "outlinewidth": 0,
             "ticks": ""
            },
            "colorscale": [
             [
              0,
              "#0d0887"
             ],
             [
              0.1111111111111111,
              "#46039f"
             ],
             [
              0.2222222222222222,
              "#7201a8"
             ],
             [
              0.3333333333333333,
              "#9c179e"
             ],
             [
              0.4444444444444444,
              "#bd3786"
             ],
             [
              0.5555555555555556,
              "#d8576b"
             ],
             [
              0.6666666666666666,
              "#ed7953"
             ],
             [
              0.7777777777777778,
              "#fb9f3a"
             ],
             [
              0.8888888888888888,
              "#fdca26"
             ],
             [
              1,
              "#f0f921"
             ]
            ],
            "type": "contour"
           }
          ],
          "contourcarpet": [
           {
            "colorbar": {
             "outlinewidth": 0,
             "ticks": ""
            },
            "type": "contourcarpet"
           }
          ],
          "heatmap": [
           {
            "colorbar": {
             "outlinewidth": 0,
             "ticks": ""
            },
            "colorscale": [
             [
              0,
              "#0d0887"
             ],
             [
              0.1111111111111111,
              "#46039f"
             ],
             [
              0.2222222222222222,
              "#7201a8"
             ],
             [
              0.3333333333333333,
              "#9c179e"
             ],
             [
              0.4444444444444444,
              "#bd3786"
             ],
             [
              0.5555555555555556,
              "#d8576b"
             ],
             [
              0.6666666666666666,
              "#ed7953"
             ],
             [
              0.7777777777777778,
              "#fb9f3a"
             ],
             [
              0.8888888888888888,
              "#fdca26"
             ],
             [
              1,
              "#f0f921"
             ]
            ],
            "type": "heatmap"
           }
          ],
          "heatmapgl": [
           {
            "colorbar": {
             "outlinewidth": 0,
             "ticks": ""
            },
            "colorscale": [
             [
              0,
              "#0d0887"
             ],
             [
              0.1111111111111111,
              "#46039f"
             ],
             [
              0.2222222222222222,
              "#7201a8"
             ],
             [
              0.3333333333333333,
              "#9c179e"
             ],
             [
              0.4444444444444444,
              "#bd3786"
             ],
             [
              0.5555555555555556,
              "#d8576b"
             ],
             [
              0.6666666666666666,
              "#ed7953"
             ],
             [
              0.7777777777777778,
              "#fb9f3a"
             ],
             [
              0.8888888888888888,
              "#fdca26"
             ],
             [
              1,
              "#f0f921"
             ]
            ],
            "type": "heatmapgl"
           }
          ],
          "histogram": [
           {
            "marker": {
             "colorbar": {
              "outlinewidth": 0,
              "ticks": ""
             }
            },
            "type": "histogram"
           }
          ],
          "histogram2d": [
           {
            "colorbar": {
             "outlinewidth": 0,
             "ticks": ""
            },
            "colorscale": [
             [
              0,
              "#0d0887"
             ],
             [
              0.1111111111111111,
              "#46039f"
             ],
             [
              0.2222222222222222,
              "#7201a8"
             ],
             [
              0.3333333333333333,
              "#9c179e"
             ],
             [
              0.4444444444444444,
              "#bd3786"
             ],
             [
              0.5555555555555556,
              "#d8576b"
             ],
             [
              0.6666666666666666,
              "#ed7953"
             ],
             [
              0.7777777777777778,
              "#fb9f3a"
             ],
             [
              0.8888888888888888,
              "#fdca26"
             ],
             [
              1,
              "#f0f921"
             ]
            ],
            "type": "histogram2d"
           }
          ],
          "histogram2dcontour": [
           {
            "colorbar": {
             "outlinewidth": 0,
             "ticks": ""
            },
            "colorscale": [
             [
              0,
              "#0d0887"
             ],
             [
              0.1111111111111111,
              "#46039f"
             ],
             [
              0.2222222222222222,
              "#7201a8"
             ],
             [
              0.3333333333333333,
              "#9c179e"
             ],
             [
              0.4444444444444444,
              "#bd3786"
             ],
             [
              0.5555555555555556,
              "#d8576b"
             ],
             [
              0.6666666666666666,
              "#ed7953"
             ],
             [
              0.7777777777777778,
              "#fb9f3a"
             ],
             [
              0.8888888888888888,
              "#fdca26"
             ],
             [
              1,
              "#f0f921"
             ]
            ],
            "type": "histogram2dcontour"
           }
          ],
          "mesh3d": [
           {
            "colorbar": {
             "outlinewidth": 0,
             "ticks": ""
            },
            "type": "mesh3d"
           }
          ],
          "parcoords": [
           {
            "line": {
             "colorbar": {
              "outlinewidth": 0,
              "ticks": ""
             }
            },
            "type": "parcoords"
           }
          ],
          "pie": [
           {
            "automargin": true,
            "type": "pie"
           }
          ],
          "scatter": [
           {
            "marker": {
             "colorbar": {
              "outlinewidth": 0,
              "ticks": ""
             }
            },
            "type": "scatter"
           }
          ],
          "scatter3d": [
           {
            "line": {
             "colorbar": {
              "outlinewidth": 0,
              "ticks": ""
             }
            },
            "marker": {
             "colorbar": {
              "outlinewidth": 0,
              "ticks": ""
             }
            },
            "type": "scatter3d"
           }
          ],
          "scattercarpet": [
           {
            "marker": {
             "colorbar": {
              "outlinewidth": 0,
              "ticks": ""
             }
            },
            "type": "scattercarpet"
           }
          ],
          "scattergeo": [
           {
            "marker": {
             "colorbar": {
              "outlinewidth": 0,
              "ticks": ""
             }
            },
            "type": "scattergeo"
           }
          ],
          "scattergl": [
           {
            "marker": {
             "colorbar": {
              "outlinewidth": 0,
              "ticks": ""
             }
            },
            "type": "scattergl"
           }
          ],
          "scattermapbox": [
           {
            "marker": {
             "colorbar": {
              "outlinewidth": 0,
              "ticks": ""
             }
            },
            "type": "scattermapbox"
           }
          ],
          "scatterpolar": [
           {
            "marker": {
             "colorbar": {
              "outlinewidth": 0,
              "ticks": ""
             }
            },
            "type": "scatterpolar"
           }
          ],
          "scatterpolargl": [
           {
            "marker": {
             "colorbar": {
              "outlinewidth": 0,
              "ticks": ""
             }
            },
            "type": "scatterpolargl"
           }
          ],
          "scatterternary": [
           {
            "marker": {
             "colorbar": {
              "outlinewidth": 0,
              "ticks": ""
             }
            },
            "type": "scatterternary"
           }
          ],
          "surface": [
           {
            "colorbar": {
             "outlinewidth": 0,
             "ticks": ""
            },
            "colorscale": [
             [
              0,
              "#0d0887"
             ],
             [
              0.1111111111111111,
              "#46039f"
             ],
             [
              0.2222222222222222,
              "#7201a8"
             ],
             [
              0.3333333333333333,
              "#9c179e"
             ],
             [
              0.4444444444444444,
              "#bd3786"
             ],
             [
              0.5555555555555556,
              "#d8576b"
             ],
             [
              0.6666666666666666,
              "#ed7953"
             ],
             [
              0.7777777777777778,
              "#fb9f3a"
             ],
             [
              0.8888888888888888,
              "#fdca26"
             ],
             [
              1,
              "#f0f921"
             ]
            ],
            "type": "surface"
           }
          ],
          "table": [
           {
            "cells": {
             "fill": {
              "color": "#EBF0F8"
             },
             "line": {
              "color": "white"
             }
            },
            "header": {
             "fill": {
              "color": "#C8D4E3"
             },
             "line": {
              "color": "white"
             }
            },
            "type": "table"
           }
          ]
         },
         "layout": {
          "annotationdefaults": {
           "arrowcolor": "#2a3f5f",
           "arrowhead": 0,
           "arrowwidth": 1
          },
          "coloraxis": {
           "colorbar": {
            "outlinewidth": 0,
            "ticks": ""
           }
          },
          "colorscale": {
           "diverging": [
            [
             0,
             "#8e0152"
            ],
            [
             0.1,
             "#c51b7d"
            ],
            [
             0.2,
             "#de77ae"
            ],
            [
             0.3,
             "#f1b6da"
            ],
            [
             0.4,
             "#fde0ef"
            ],
            [
             0.5,
             "#f7f7f7"
            ],
            [
             0.6,
             "#e6f5d0"
            ],
            [
             0.7,
             "#b8e186"
            ],
            [
             0.8,
             "#7fbc41"
            ],
            [
             0.9,
             "#4d9221"
            ],
            [
             1,
             "#276419"
            ]
           ],
           "sequential": [
            [
             0,
             "#0d0887"
            ],
            [
             0.1111111111111111,
             "#46039f"
            ],
            [
             0.2222222222222222,
             "#7201a8"
            ],
            [
             0.3333333333333333,
             "#9c179e"
            ],
            [
             0.4444444444444444,
             "#bd3786"
            ],
            [
             0.5555555555555556,
             "#d8576b"
            ],
            [
             0.6666666666666666,
             "#ed7953"
            ],
            [
             0.7777777777777778,
             "#fb9f3a"
            ],
            [
             0.8888888888888888,
             "#fdca26"
            ],
            [
             1,
             "#f0f921"
            ]
           ],
           "sequentialminus": [
            [
             0,
             "#0d0887"
            ],
            [
             0.1111111111111111,
             "#46039f"
            ],
            [
             0.2222222222222222,
             "#7201a8"
            ],
            [
             0.3333333333333333,
             "#9c179e"
            ],
            [
             0.4444444444444444,
             "#bd3786"
            ],
            [
             0.5555555555555556,
             "#d8576b"
            ],
            [
             0.6666666666666666,
             "#ed7953"
            ],
            [
             0.7777777777777778,
             "#fb9f3a"
            ],
            [
             0.8888888888888888,
             "#fdca26"
            ],
            [
             1,
             "#f0f921"
            ]
           ]
          },
          "colorway": [
           "#636efa",
           "#EF553B",
           "#00cc96",
           "#ab63fa",
           "#FFA15A",
           "#19d3f3",
           "#FF6692",
           "#B6E880",
           "#FF97FF",
           "#FECB52"
          ],
          "font": {
           "color": "#2a3f5f"
          },
          "geo": {
           "bgcolor": "white",
           "lakecolor": "white",
           "landcolor": "#E5ECF6",
           "showlakes": true,
           "showland": true,
           "subunitcolor": "white"
          },
          "hoverlabel": {
           "align": "left"
          },
          "hovermode": "closest",
          "mapbox": {
           "style": "light"
          },
          "paper_bgcolor": "white",
          "plot_bgcolor": "#E5ECF6",
          "polar": {
           "angularaxis": {
            "gridcolor": "white",
            "linecolor": "white",
            "ticks": ""
           },
           "bgcolor": "#E5ECF6",
           "radialaxis": {
            "gridcolor": "white",
            "linecolor": "white",
            "ticks": ""
           }
          },
          "scene": {
           "xaxis": {
            "backgroundcolor": "#E5ECF6",
            "gridcolor": "white",
            "gridwidth": 2,
            "linecolor": "white",
            "showbackground": true,
            "ticks": "",
            "zerolinecolor": "white"
           },
           "yaxis": {
            "backgroundcolor": "#E5ECF6",
            "gridcolor": "white",
            "gridwidth": 2,
            "linecolor": "white",
            "showbackground": true,
            "ticks": "",
            "zerolinecolor": "white"
           },
           "zaxis": {
            "backgroundcolor": "#E5ECF6",
            "gridcolor": "white",
            "gridwidth": 2,
            "linecolor": "white",
            "showbackground": true,
            "ticks": "",
            "zerolinecolor": "white"
           }
          },
          "shapedefaults": {
           "line": {
            "color": "#2a3f5f"
           }
          },
          "ternary": {
           "aaxis": {
            "gridcolor": "white",
            "linecolor": "white",
            "ticks": ""
           },
           "baxis": {
            "gridcolor": "white",
            "linecolor": "white",
            "ticks": ""
           },
           "bgcolor": "#E5ECF6",
           "caxis": {
            "gridcolor": "white",
            "linecolor": "white",
            "ticks": ""
           }
          },
          "title": {
           "x": 0.05
          },
          "xaxis": {
           "automargin": true,
           "gridcolor": "white",
           "linecolor": "white",
           "ticks": "",
           "title": {
            "standoff": 15
           },
           "zerolinecolor": "white",
           "zerolinewidth": 2
          },
          "yaxis": {
           "automargin": true,
           "gridcolor": "white",
           "linecolor": "white",
           "ticks": "",
           "title": {
            "standoff": 15
           },
           "zerolinecolor": "white",
           "zerolinewidth": 2
          }
         }
        },
        "title": {
         "text": "COVID-19 Total Test Positive Rate by State (updated on 2020-04-12)"
        }
       }
      },
      "text/html": [
       "<div>\n",
       "        \n",
       "        \n",
       "            <div id=\"41222b1c-805c-4210-aed0-af00fcf07ff1\" class=\"plotly-graph-div\" style=\"height:525px; width:100%;\"></div>\n",
       "            <script type=\"text/javascript\">\n",
       "                require([\"plotly\"], function(Plotly) {\n",
       "                    window.PLOTLYENV=window.PLOTLYENV || {};\n",
       "                    \n",
       "                if (document.getElementById(\"41222b1c-805c-4210-aed0-af00fcf07ff1\")) {\n",
       "                    Plotly.newPlot(\n",
       "                        '41222b1c-805c-4210-aed0-af00fcf07ff1',\n",
       "                        [{\"colorbar\": {\"title\": {\"text\": \"Test Positive Rate (%)\"}}, \"colorscale\": [[0.0, \"rgb(255,245,240)\"], [0.125, \"rgb(254,224,210)\"], [0.25, \"rgb(252,187,161)\"], [0.375, \"rgb(252,146,114)\"], [0.5, \"rgb(251,106,74)\"], [0.625, \"rgb(239,59,44)\"], [0.75, \"rgb(203,24,29)\"], [0.875, \"rgb(165,15,21)\"], [1.0, \"rgb(103,0,13)\"]], \"locationmode\": \"USA-states\", \"locations\": [\"AK\", \"AL\", \"AR\", \"AS\", \"AZ\", \"CA\", \"CO\", \"CT\", \"DC\", \"DE\", \"FL\", \"GA\", \"GU\", \"HI\", \"IA\", \"ID\", \"IL\", \"IN\", \"KS\", \"KY\", \"LA\", \"MA\", \"MD\", \"ME\", \"MI\", \"MN\", \"MO\", \"MP\", \"MS\", \"MT\", \"NC\", \"ND\", \"NE\", \"NH\", \"NJ\", \"NM\", \"NV\", \"NY\", \"OH\", \"OK\", \"OR\", \"PA\", \"PR\", \"RI\", \"SC\", \"SD\", \"TN\", \"TX\", \"UT\", \"VA\", \"VI\", \"VT\", \"WA\", \"WI\", \"WV\", \"WY\"], \"marker\": {\"line\": {\"color\": \"white\"}}, \"text\": [\"Total positive cases: 272<br>Total test results: 8038.0\", \"Total positive cases: 3525<br>Total test results: 21583.0\", \"Total positive cases: 1280<br>Total test results: 19722.0\", \"Total positive cases: 0<br>Total test results: 3.0\", \"Total positive cases: 3539<br>Total test results: 42109.0\", \"Total positive cases: 21794<br>Total test results: 190328.0\", \"Total positive cases: 6893<br>Total test results: 34873.0\", \"Total positive cases: 12035<br>Total test results: 41220.0\", \"Total positive cases: 1875<br>Total test results: 10640.0\", \"Total positive cases: 1479<br>Total test results: 11103.0\", \"Total positive cases: 19355<br>Total test results: 182753.0\", \"Total positive cases: 12452<br>Total test results: 54453.0\", \"Total positive cases: 133<br>Total test results: 826.0\", \"Total positive cases: 486<br>Total test results: 17968.0\", \"Total positive cases: 1587<br>Total test results: 17592.0\", \"Total positive cases: 1407<br>Total test results: 14308.0\", \"Total positive cases: 20852<br>Total test results: 100735.0\", \"Total positive cases: 7928<br>Total test results: 42489.0\", \"Total positive cases: 1337<br>Total test results: 13253.0\", \"Total positive cases: 1840<br>Total test results: 24567.0\", \"Total positive cases: 20595<br>Total test results: 104045.0\", \"Total positive cases: 25475<br>Total test results: 116730.0\", \"Total positive cases: 8225<br>Total test results: 49764.0\", \"Total positive cases: 633<br>Total test results: 6721.0\", \"Total positive cases: 24638<br>Total test results: 79437.0\", \"Total positive cases: 1621<br>Total test results: 37421.0\", \"Total positive cases: 4160<br>Total test results: 45200.0\", \"Total positive cases: 11<br>Total test results: 38.0\", \"Total positive cases: 2781<br>Total test results: 21413.0\", \"Total positive cases: 387<br>Total test results: 8913.0\", \"Total positive cases: 4520<br>Total test results: 62139.0\", \"Total positive cases: 308<br>Total test results: 10350.0\", \"Total positive cases: 791<br>Total test results: 10691.0\", \"Total positive cases: 929<br>Total test results: 10925.0\", \"Total positive cases: 61850<br>Total test results: 126735.0\", \"Total positive cases: 1174<br>Total test results: 28692.0\", \"Total positive cases: 2836<br>Total test results: 24611.0\", \"Total positive cases: 188694<br>Total test results: 461601.0\", \"Total positive cases: 6604<br>Total test results: 63243.0\", \"Total positive cases: 1970<br>Total test results: 22760.0\", \"Total positive cases: 1527<br>Total test results: 29758.0\", \"Total positive cases: 22833<br>Total test results: 124890.0\", \"Total positive cases: 897<br>Total test results: 6716.0\", \"Total positive cases: 2665<br>Total test results: 20350.0\", \"Total positive cases: 3319<br>Total test results: 31425.0\", \"Total positive cases: 730<br>Total test results: 8553.0\", \"Total positive cases: 5308<br>Total test results: 70677.0\", \"Total positive cases: 13484<br>Total test results: 124533.0\", \"Total positive cases: 2303<br>Total test results: 44234.0\", \"Total positive cases: 5274<br>Total test results: 39985.0\", \"Total positive cases: 51<br>Total test results: 350.0\", \"Total positive cases: 727<br>Total test results: 9841.0\", \"Total positive cases: 10224<br>Total test results: 93615.0\", \"Total positive cases: 3341<br>Total test results: 39257.0\", \"Total positive cases: 611<br>Total test results: 16257.0\", \"Total positive cases: 261<br>Total test results: 5459.0\"], \"type\": \"choropleth\", \"z\": [3.3839263498382683, 16.332298568317658, 6.490213974241963, 0.0, 8.404379111353867, 10.708108957981212, 19.766008086485247, 29.196991751576906, 17.622180451127818, 13.32072412861389, 10.516164085846237, 22.867426955355995, 16.101694915254235, 2.7048085485307216, 9.021145975443384, 9.833659491193737, 20.699856057973893, 18.658947021582055, 10.08828189843809, 7.489721984776327, 19.794319765486087, 21.8238670436049, 16.52801221766739, 9.418241333134949, 31.015773506048816, 4.331792309131236, 9.20353982300885, 23.404255319148938, 12.98743753794424, 4.341972399865365, 7.274014708958947, 2.975845410628019, 7.39874660929754, 8.411807316189785, 48.80261963940506, 4.091732887215949, 11.523302588273536, 40.87816100918326, 10.442262384769856, 8.655536028119508, 5.1313932387929295, 18.282488589959165, 11.258943140454376, 13.095823095823095, 10.561654733492443, 8.535016953115866, 7.510222561795208, 10.82765210827652, 5.206402314961342, 13.02029328988298, 13.783783783783784, 7.387460623920333, 10.921326710463067, 8.510584099651018, 3.7583810051054933, 4.781095438725042]}],\n",
       "                        {\"geo\": {\"scope\": \"usa\"}, \"template\": {\"data\": {\"bar\": [{\"error_x\": {\"color\": \"#2a3f5f\"}, \"error_y\": {\"color\": \"#2a3f5f\"}, \"marker\": {\"line\": {\"color\": \"#E5ECF6\", \"width\": 0.5}}, \"type\": \"bar\"}], \"barpolar\": [{\"marker\": {\"line\": {\"color\": \"#E5ECF6\", \"width\": 0.5}}, \"type\": \"barpolar\"}], \"carpet\": [{\"aaxis\": {\"endlinecolor\": \"#2a3f5f\", \"gridcolor\": \"white\", \"linecolor\": \"white\", \"minorgridcolor\": \"white\", \"startlinecolor\": \"#2a3f5f\"}, \"baxis\": {\"endlinecolor\": \"#2a3f5f\", \"gridcolor\": \"white\", \"linecolor\": \"white\", \"minorgridcolor\": \"white\", \"startlinecolor\": \"#2a3f5f\"}, \"type\": \"carpet\"}], \"choropleth\": [{\"colorbar\": {\"outlinewidth\": 0, \"ticks\": \"\"}, \"type\": \"choropleth\"}], \"contour\": [{\"colorbar\": {\"outlinewidth\": 0, \"ticks\": \"\"}, \"colorscale\": [[0.0, \"#0d0887\"], [0.1111111111111111, \"#46039f\"], [0.2222222222222222, \"#7201a8\"], [0.3333333333333333, \"#9c179e\"], [0.4444444444444444, \"#bd3786\"], [0.5555555555555556, \"#d8576b\"], [0.6666666666666666, \"#ed7953\"], [0.7777777777777778, \"#fb9f3a\"], [0.8888888888888888, \"#fdca26\"], [1.0, \"#f0f921\"]], \"type\": \"contour\"}], \"contourcarpet\": [{\"colorbar\": {\"outlinewidth\": 0, \"ticks\": \"\"}, \"type\": \"contourcarpet\"}], \"heatmap\": [{\"colorbar\": {\"outlinewidth\": 0, \"ticks\": \"\"}, \"colorscale\": [[0.0, \"#0d0887\"], [0.1111111111111111, \"#46039f\"], [0.2222222222222222, \"#7201a8\"], [0.3333333333333333, \"#9c179e\"], [0.4444444444444444, \"#bd3786\"], [0.5555555555555556, \"#d8576b\"], [0.6666666666666666, \"#ed7953\"], [0.7777777777777778, \"#fb9f3a\"], [0.8888888888888888, \"#fdca26\"], [1.0, \"#f0f921\"]], \"type\": \"heatmap\"}], \"heatmapgl\": [{\"colorbar\": {\"outlinewidth\": 0, \"ticks\": \"\"}, \"colorscale\": [[0.0, \"#0d0887\"], [0.1111111111111111, \"#46039f\"], [0.2222222222222222, \"#7201a8\"], [0.3333333333333333, \"#9c179e\"], [0.4444444444444444, \"#bd3786\"], [0.5555555555555556, \"#d8576b\"], [0.6666666666666666, \"#ed7953\"], [0.7777777777777778, \"#fb9f3a\"], [0.8888888888888888, \"#fdca26\"], [1.0, \"#f0f921\"]], \"type\": \"heatmapgl\"}], \"histogram\": [{\"marker\": {\"colorbar\": {\"outlinewidth\": 0, \"ticks\": \"\"}}, \"type\": \"histogram\"}], \"histogram2d\": [{\"colorbar\": {\"outlinewidth\": 0, \"ticks\": \"\"}, \"colorscale\": [[0.0, \"#0d0887\"], [0.1111111111111111, \"#46039f\"], [0.2222222222222222, \"#7201a8\"], [0.3333333333333333, \"#9c179e\"], [0.4444444444444444, \"#bd3786\"], [0.5555555555555556, \"#d8576b\"], [0.6666666666666666, \"#ed7953\"], [0.7777777777777778, \"#fb9f3a\"], [0.8888888888888888, \"#fdca26\"], [1.0, \"#f0f921\"]], \"type\": \"histogram2d\"}], \"histogram2dcontour\": [{\"colorbar\": {\"outlinewidth\": 0, \"ticks\": \"\"}, \"colorscale\": [[0.0, \"#0d0887\"], [0.1111111111111111, \"#46039f\"], [0.2222222222222222, \"#7201a8\"], [0.3333333333333333, \"#9c179e\"], [0.4444444444444444, \"#bd3786\"], [0.5555555555555556, \"#d8576b\"], [0.6666666666666666, \"#ed7953\"], [0.7777777777777778, \"#fb9f3a\"], [0.8888888888888888, \"#fdca26\"], [1.0, \"#f0f921\"]], \"type\": \"histogram2dcontour\"}], \"mesh3d\": [{\"colorbar\": {\"outlinewidth\": 0, \"ticks\": \"\"}, \"type\": \"mesh3d\"}], \"parcoords\": [{\"line\": {\"colorbar\": {\"outlinewidth\": 0, \"ticks\": \"\"}}, \"type\": \"parcoords\"}], \"pie\": [{\"automargin\": true, \"type\": \"pie\"}], \"scatter\": [{\"marker\": {\"colorbar\": {\"outlinewidth\": 0, \"ticks\": \"\"}}, \"type\": \"scatter\"}], \"scatter3d\": [{\"line\": {\"colorbar\": {\"outlinewidth\": 0, \"ticks\": \"\"}}, \"marker\": {\"colorbar\": {\"outlinewidth\": 0, \"ticks\": \"\"}}, \"type\": \"scatter3d\"}], \"scattercarpet\": [{\"marker\": {\"colorbar\": {\"outlinewidth\": 0, \"ticks\": \"\"}}, \"type\": \"scattercarpet\"}], \"scattergeo\": [{\"marker\": {\"colorbar\": {\"outlinewidth\": 0, \"ticks\": \"\"}}, \"type\": \"scattergeo\"}], \"scattergl\": [{\"marker\": {\"colorbar\": {\"outlinewidth\": 0, \"ticks\": \"\"}}, \"type\": \"scattergl\"}], \"scattermapbox\": [{\"marker\": {\"colorbar\": {\"outlinewidth\": 0, \"ticks\": \"\"}}, \"type\": \"scattermapbox\"}], \"scatterpolar\": [{\"marker\": {\"colorbar\": {\"outlinewidth\": 0, \"ticks\": \"\"}}, \"type\": \"scatterpolar\"}], \"scatterpolargl\": [{\"marker\": {\"colorbar\": {\"outlinewidth\": 0, \"ticks\": \"\"}}, \"type\": \"scatterpolargl\"}], \"scatterternary\": [{\"marker\": {\"colorbar\": {\"outlinewidth\": 0, \"ticks\": \"\"}}, \"type\": \"scatterternary\"}], \"surface\": [{\"colorbar\": {\"outlinewidth\": 0, \"ticks\": \"\"}, \"colorscale\": [[0.0, \"#0d0887\"], [0.1111111111111111, \"#46039f\"], [0.2222222222222222, \"#7201a8\"], [0.3333333333333333, \"#9c179e\"], [0.4444444444444444, \"#bd3786\"], [0.5555555555555556, \"#d8576b\"], [0.6666666666666666, \"#ed7953\"], [0.7777777777777778, \"#fb9f3a\"], [0.8888888888888888, \"#fdca26\"], [1.0, \"#f0f921\"]], \"type\": \"surface\"}], \"table\": [{\"cells\": {\"fill\": {\"color\": \"#EBF0F8\"}, \"line\": {\"color\": \"white\"}}, \"header\": {\"fill\": {\"color\": \"#C8D4E3\"}, \"line\": {\"color\": \"white\"}}, \"type\": \"table\"}]}, \"layout\": {\"annotationdefaults\": {\"arrowcolor\": \"#2a3f5f\", \"arrowhead\": 0, \"arrowwidth\": 1}, \"coloraxis\": {\"colorbar\": {\"outlinewidth\": 0, \"ticks\": \"\"}}, \"colorscale\": {\"diverging\": [[0, \"#8e0152\"], [0.1, \"#c51b7d\"], [0.2, \"#de77ae\"], [0.3, \"#f1b6da\"], [0.4, \"#fde0ef\"], [0.5, \"#f7f7f7\"], [0.6, \"#e6f5d0\"], [0.7, \"#b8e186\"], [0.8, \"#7fbc41\"], [0.9, \"#4d9221\"], [1, \"#276419\"]], \"sequential\": [[0.0, \"#0d0887\"], [0.1111111111111111, \"#46039f\"], [0.2222222222222222, \"#7201a8\"], [0.3333333333333333, \"#9c179e\"], [0.4444444444444444, \"#bd3786\"], [0.5555555555555556, \"#d8576b\"], [0.6666666666666666, \"#ed7953\"], [0.7777777777777778, \"#fb9f3a\"], [0.8888888888888888, \"#fdca26\"], [1.0, \"#f0f921\"]], \"sequentialminus\": [[0.0, \"#0d0887\"], [0.1111111111111111, \"#46039f\"], [0.2222222222222222, \"#7201a8\"], [0.3333333333333333, \"#9c179e\"], [0.4444444444444444, \"#bd3786\"], [0.5555555555555556, \"#d8576b\"], [0.6666666666666666, \"#ed7953\"], [0.7777777777777778, \"#fb9f3a\"], [0.8888888888888888, \"#fdca26\"], [1.0, \"#f0f921\"]]}, \"colorway\": [\"#636efa\", \"#EF553B\", \"#00cc96\", \"#ab63fa\", \"#FFA15A\", \"#19d3f3\", \"#FF6692\", \"#B6E880\", \"#FF97FF\", \"#FECB52\"], \"font\": {\"color\": \"#2a3f5f\"}, \"geo\": {\"bgcolor\": \"white\", \"lakecolor\": \"white\", \"landcolor\": \"#E5ECF6\", \"showlakes\": true, \"showland\": true, \"subunitcolor\": \"white\"}, \"hoverlabel\": {\"align\": \"left\"}, \"hovermode\": \"closest\", \"mapbox\": {\"style\": \"light\"}, \"paper_bgcolor\": \"white\", \"plot_bgcolor\": \"#E5ECF6\", \"polar\": {\"angularaxis\": {\"gridcolor\": \"white\", \"linecolor\": \"white\", \"ticks\": \"\"}, \"bgcolor\": \"#E5ECF6\", \"radialaxis\": {\"gridcolor\": \"white\", \"linecolor\": \"white\", \"ticks\": \"\"}}, \"scene\": {\"xaxis\": {\"backgroundcolor\": \"#E5ECF6\", \"gridcolor\": \"white\", \"gridwidth\": 2, \"linecolor\": \"white\", \"showbackground\": true, \"ticks\": \"\", \"zerolinecolor\": \"white\"}, \"yaxis\": {\"backgroundcolor\": \"#E5ECF6\", \"gridcolor\": \"white\", \"gridwidth\": 2, \"linecolor\": \"white\", \"showbackground\": true, \"ticks\": \"\", \"zerolinecolor\": \"white\"}, \"zaxis\": {\"backgroundcolor\": \"#E5ECF6\", \"gridcolor\": \"white\", \"gridwidth\": 2, \"linecolor\": \"white\", \"showbackground\": true, \"ticks\": \"\", \"zerolinecolor\": \"white\"}}, \"shapedefaults\": {\"line\": {\"color\": \"#2a3f5f\"}}, \"ternary\": {\"aaxis\": {\"gridcolor\": \"white\", \"linecolor\": \"white\", \"ticks\": \"\"}, \"baxis\": {\"gridcolor\": \"white\", \"linecolor\": \"white\", \"ticks\": \"\"}, \"bgcolor\": \"#E5ECF6\", \"caxis\": {\"gridcolor\": \"white\", \"linecolor\": \"white\", \"ticks\": \"\"}}, \"title\": {\"x\": 0.05}, \"xaxis\": {\"automargin\": true, \"gridcolor\": \"white\", \"linecolor\": \"white\", \"ticks\": \"\", \"title\": {\"standoff\": 15}, \"zerolinecolor\": \"white\", \"zerolinewidth\": 2}, \"yaxis\": {\"automargin\": true, \"gridcolor\": \"white\", \"linecolor\": \"white\", \"ticks\": \"\", \"title\": {\"standoff\": 15}, \"zerolinecolor\": \"white\", \"zerolinewidth\": 2}}}, \"title\": {\"text\": \"COVID-19 Total Test Positive Rate by State (updated on 2020-04-12)\"}},\n",
       "                        {\"responsive\": true}\n",
       "                    ).then(function(){\n",
       "                            \n",
       "var gd = document.getElementById('41222b1c-805c-4210-aed0-af00fcf07ff1');\n",
       "var x = new MutationObserver(function (mutations, observer) {{\n",
       "        var display = window.getComputedStyle(gd).display;\n",
       "        if (!display || display === 'none') {{\n",
       "            console.log([gd, 'removed!']);\n",
       "            Plotly.purge(gd);\n",
       "            observer.disconnect();\n",
       "        }}\n",
       "}});\n",
       "\n",
       "// Listen for the removal of the full notebook cells\n",
       "var notebookContainer = gd.closest('#notebook-container');\n",
       "if (notebookContainer) {{\n",
       "    x.observe(notebookContainer, {childList: true});\n",
       "}}\n",
       "\n",
       "// Listen for the clearing of the current output cell\n",
       "var outputEl = gd.closest('.output');\n",
       "if (outputEl) {{\n",
       "    x.observe(outputEl, {childList: true});\n",
       "}}\n",
       "\n",
       "                        })\n",
       "                };\n",
       "                });\n",
       "            </script>\n",
       "        </div>"
      ]
     },
     "metadata": {},
     "output_type": "display_data"
    }
   ],
   "source": [
    "latest_by_state(df)"
   ]
  },
  {
   "cell_type": "code",
   "execution_count": null,
   "metadata": {},
   "outputs": [],
   "source": []
  }
 ],
 "metadata": {
  "kernelspec": {
   "display_name": "Python 3",
   "language": "python",
   "name": "python3"
  },
  "language_info": {
   "codemirror_mode": {
    "name": "ipython",
    "version": 3
   },
   "file_extension": ".py",
   "mimetype": "text/x-python",
   "name": "python",
   "nbconvert_exporter": "python",
   "pygments_lexer": "ipython3",
   "version": "3.6.5"
  }
 },
 "nbformat": 4,
 "nbformat_minor": 2
}
